{
 "cells": [
  {
   "cell_type": "code",
   "execution_count": null,
   "id": "0fca071f-e3f7-4fa2-b197-703c9d06b3f8",
   "metadata": {},
   "outputs": [],
   "source": [
    "from sensormap_client import ApiClient, Configuration, models\n",
    "from helpers.wrapper import get_jwt_token\n",
    "from sensormap_client.api.default_api import DefaultApi\n",
    "import pandas as pd\n",
    "import geopandas as gpd\n",
    "import json\n",
    "\n",
    "SERVER = \"https://soil-sensormap.epfl.ch\" \n",
    "# SERVER = \"http://soil:88\"\n",
    "\n",
    "auth_token = get_jwt_token(SERVER)\n",
    "config = Configuration(host=SERVER, access_token=auth_token)\n",
    "api = DefaultApi(ApiClient(configuration=config))\n",
    "\n",
    "# Test getting some projects, to see if we're connected\n",
    "print(\"Connected\") if api.get_all_projects() is not None else print(\"Not connected\")"
   ]
  },
  {
   "cell_type": "code",
   "execution_count": null,
   "id": "7f809c30-02a0-463d-ad9c-85d40f75e148",
   "metadata": {},
   "outputs": [],
   "source": [
    "# Print out the projects and areas\n",
    "projects = api.get_all_projects()\n",
    "for project in projects:\n",
    "    print(f\"Project: {project.name}\")\n",
    "\n",
    "areas = api.get_all_areas()\n",
    "for area in areas:\n",
    "    print(f\"Area: {area.name} (Project: {area.project.name})\")"
   ]
  },
  {
   "cell_type": "code",
   "execution_count": null,
   "id": "25f7e1a2-894a-4f1c-a796-8f77fb9c2447",
   "metadata": {
    "scrolled": true
   },
   "outputs": [],
   "source": [
    "# # Create a project\n",
    "\n",
    "# # We need to use the ProjectCreate model to create\n",
    "# project = models.ProjectCreate(\n",
    "#     name=\"Soil Amendment\",\n",
    "#     description=\"The soil amendement project aims at investigatingthe effect of different organic amendements on agricultural soils. This project is in collaboration with the Nestlé research center\"\n",
    "# )\n",
    "\n",
    "# # Send it to the Database\n",
    "# created_project = api.create_one_project(project)\n",
    "# print(\"Created project. ID:\", created_project.id)"
   ]
  },
  {
   "cell_type": "code",
   "execution_count": null,
   "id": "cc73daa3-5fb3-4cc3-92aa-6de6a541edc7",
   "metadata": {},
   "outputs": [],
   "source": [
    "params = {\"name\": \"Moudon\"}\n",
    "moudon = api.get_all_areas(filter=json.dumps(params))[0]\n",
    "moudon.id"
   ]
  },
  {
   "cell_type": "code",
   "execution_count": null,
   "id": "52f7a8c9-11ac-4332-b8a3-40a421286a23",
   "metadata": {
    "scrolled": true
   },
   "outputs": [],
   "source": [
    "help(models.PlotCreate)"
   ]
  },
  {
   "cell_type": "code",
   "execution_count": null,
   "id": "11ea84c4-4ea9-414f-a311-9f238f85b9f0",
   "metadata": {},
   "outputs": [],
   "source": [
    "df = pd.read_csv(\"moudon.csv\")\n",
    "\n",
    "# Load coordinates, convert them from latlong (4326) to SwissGrid (2056)\n",
    "coords = pd.read_csv(\"moudon-coords.csv\")\n",
    "coords = gpd.GeoDataFrame(coords, geometry=gpd.GeoSeries.from_xy(coords['longitude'], coords['latitude']), crs=4326).to_crs(2056)\n",
    "\n",
    "# Join the tables on the plot column\n",
    "combined = df.merge(coords[['plot', 'geometry']], left_on='Plot', right_on='plot', how=\"inner\")"
   ]
  },
  {
   "cell_type": "code",
   "execution_count": null,
   "id": "5ac520c5-bf61-42d1-86b5-8fbd925ce3dd",
   "metadata": {},
   "outputs": [],
   "source": [
    "df"
   ]
  },
  {
   "cell_type": "code",
   "execution_count": null,
   "id": "e1689f37-6cf8-4347-9d5f-464c8ba9db78",
   "metadata": {},
   "outputs": [],
   "source": [
    "for i, row in combined.iterrows():\n",
    "    # print(row)\n",
    "    plot = models.PlotCreate(area_id=moudon.id, name=row.Plot, coord_x=row.geometry.x, coord_y=row.geometry.y, coord_z=0)\n",
    "    api.create_one_plot(plot)"
   ]
  }
 ],
 "metadata": {
  "kernelspec": {
   "display_name": "Python 3 (ipykernel)",
   "language": "python",
   "name": "python3"
  },
  "language_info": {
   "codemirror_mode": {
    "name": "ipython",
    "version": 3
   },
   "file_extension": ".py",
   "mimetype": "text/x-python",
   "name": "python",
   "nbconvert_exporter": "python",
   "pygments_lexer": "ipython3",
   "version": "3.13.2"
  }
 },
 "nbformat": 4,
 "nbformat_minor": 5
}
